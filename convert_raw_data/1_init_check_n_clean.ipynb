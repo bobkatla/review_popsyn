{
 "cells": [
  {
   "cell_type": "code",
   "execution_count": 1,
   "metadata": {},
   "outputs": [],
   "source": [
    "import polars as pl"
   ]
  },
  {
   "cell_type": "code",
   "execution_count": 2,
   "metadata": {},
   "outputs": [],
   "source": [
    "scopus_raw = pl.read_csv(r\"C:\\Users\\dlaa0001\\Documents\\PhD\\review_paper\\data\\raw\\3.12.2024\\scopus_3.12.24.csv\")\n",
    "trid_raw = pl.read_csv(r\"C:\\Users\\dlaa0001\\Documents\\PhD\\review_paper\\data\\raw\\3.12.2024\\TRID-CSV_2024-12-03.csv\", ignore_errors=True)\n",
    "wos_raw = pl.read_excel(r\"C:\\Users\\dlaa0001\\Documents\\PhD\\review_paper\\data\\raw\\3.12.2024\\wos_3.12.24.xls\")"
   ]
  },
  {
   "cell_type": "code",
   "execution_count": 3,
   "metadata": {},
   "outputs": [],
   "source": [
    "trid_raw = trid_raw.with_columns(\n",
    "    pl.col(\"Title\")\n",
    "    .str.replace_all(\" \", \"\")\n",
    "    .str.to_lowercase()\n",
    "    .str.replace_all(\"-\", \"\")\n",
    "    .str.replace_all(\"'\", \"\")\n",
    "    .str.replace_all(\",\", \"\")\n",
    "    .alias(\"converted_title\")\n",
    ")"
   ]
  },
  {
   "cell_type": "code",
   "execution_count": 4,
   "metadata": {},
   "outputs": [],
   "source": [
    "scopus_raw = scopus_raw.with_columns(\n",
    "    pl.col(\"Title\")\n",
    "    .str.replace_all(\" \", \"\")\n",
    "    .str.to_lowercase()\n",
    "    .str.replace_all(\"-\", \"\")\n",
    "    .str.replace_all(\"'\", \"\")\n",
    "    .str.replace_all(\",\", \"\")\n",
    "    .alias(\"converted_title\")\n",
    ")"
   ]
  },
  {
   "cell_type": "code",
   "execution_count": 5,
   "metadata": {},
   "outputs": [],
   "source": [
    "wos_raw = wos_raw.with_columns(\n",
    "    pl.col(\"Article Title\")\n",
    "    .str.replace_all(\" \", \"\")\n",
    "    .str.to_lowercase()\n",
    "    .str.replace_all(\"-\", \"\")\n",
    "    .str.replace_all(\"'\", \"\")\n",
    "    .str.replace_all(\",\", \"\")\n",
    "    .alias(\"converted_title\")\n",
    ")"
   ]
  },
  {
   "cell_type": "code",
   "execution_count": 6,
   "metadata": {},
   "outputs": [
    {
     "name": "stdout",
     "output_type": "stream",
     "text": [
      "494\n",
      "128\n"
     ]
    }
   ],
   "source": [
    "checked = []\n",
    "tot_rm = 0\n",
    "for db in [scopus_raw, wos_raw, trid_raw]:\n",
    "    same_name = set(db[\"converted_title\"]) & set(checked)\n",
    "    tot_rm += len(same_name)\n",
    "    # update\n",
    "    db.filter(\n",
    "        ~pl.col(\"converted_title\").is_in(same_name)\n",
    "    )\n",
    "    checked.extend(db[\"converted_title\"].to_list())\n",
    "print(len(checked))\n",
    "print(tot_rm)"
   ]
  },
  {
   "cell_type": "code",
   "execution_count": 7,
   "metadata": {},
   "outputs": [
    {
     "data": {
      "text/html": [
       "<div><style>\n",
       ".dataframe > thead > tr,\n",
       ".dataframe > tbody > tr {\n",
       "  text-align: right;\n",
       "  white-space: pre-wrap;\n",
       "}\n",
       "</style>\n",
       "<small>shape: (50, 5)</small><table border=\"1\" class=\"dataframe\"><thead><tr><th>Authors</th><th>Title</th><th>Year</th><th>Source Title</th><th>Abstract</th></tr><tr><td>str</td><td>str</td><td>i64</td><td>str</td><td>str</td></tr></thead><tbody><tr><td>&quot;Khachman,&nbsp;M;&nbsp;Morency,&nbsp;C;&nbsp;Ciari…</td><td>&quot;Impact&nbsp;of&nbsp;the&nbsp;Geographic&nbsp;Resol…</td><td>2021</td><td>&quot;ISPRS&nbsp;INTERNATIONAL&nbsp;JOURNAL&nbsp;OF…</td><td>&quot;Microsimulation-based&nbsp;models,&nbsp;…</td></tr><tr><td>&quot;Guo,&nbsp;JY;&nbsp;Bhat,&nbsp;CR&quot;</td><td>&quot;Population&nbsp;synthesis&nbsp;for&nbsp;micro…</td><td>2007</td><td>&quot;TRANSPORTATION&nbsp;RESEARCH&nbsp;RECORD&quot;</td><td>&quot;For&nbsp;the&nbsp;forecasting&nbsp;of&nbsp;activit…</td></tr><tr><td>&quot;Rahman,&nbsp;MN;&nbsp;Fatmi,&nbsp;MR&quot;</td><td>&quot;Population&nbsp;Synthesis&nbsp;Accommoda…</td><td>2023</td><td>&quot;TRANSPORTATION&nbsp;RESEARCH&nbsp;RECORD&quot;</td><td>&quot;Agent-based&nbsp;microsimulation&nbsp;mo…</td></tr><tr><td>&quot;McBride,&nbsp;EC;&nbsp;Davis,&nbsp;AW;&nbsp;Lee,&nbsp;J…</td><td>&quot;Incorporating&nbsp;Land&nbsp;Use&nbsp;into&nbsp;Me…</td><td>2017</td><td>&quot;TRANSPORTATION&nbsp;RESEARCH&nbsp;RECORD&quot;</td><td>&quot;This&nbsp;paper&nbsp;describes&nbsp;a&nbsp;new&nbsp;met…</td></tr><tr><td>&quot;Zhu,&nbsp;Y;&nbsp;Ferreira,&nbsp;J&quot;</td><td>&quot;Synthetic&nbsp;Population&nbsp;Generatio…</td><td>2014</td><td>&quot;TRANSPORTATION&nbsp;RESEARCH&nbsp;RECORD&quot;</td><td>&quot;The&nbsp;execution&nbsp;of&nbsp;agent-based&nbsp;m…</td></tr><tr><td>&hellip;</td><td>&hellip;</td><td>&hellip;</td><td>&hellip;</td><td>&hellip;</td></tr><tr><td>&quot;Huynh,&nbsp;N;&nbsp;Namazi-Rad,&nbsp;M;&nbsp;Perez…</td><td>&quot;Generating&nbsp;a&nbsp;Synthetic&nbsp;Populat…</td><td>2013</td><td>&quot;20TH&nbsp;INTERNATIONAL&nbsp;CONGRESS&nbsp;ON…</td><td>&quot;The&nbsp;complexity&nbsp;of&nbsp;large&nbsp;cities…</td></tr><tr><td>&quot;Murata,&nbsp;T;&nbsp;Iwase,&nbsp;D;&nbsp;Harada,&nbsp;T&quot;</td><td>&quot;Workplace&nbsp;Assignment&nbsp;to&nbsp;Worker…</td><td>2023</td><td>&quot;IEEE&nbsp;TRANSACTIONS&nbsp;ON&nbsp;COMPUTATI…</td><td>&quot;In&nbsp;this&nbsp;article,&nbsp;we&nbsp;assign&nbsp;wor…</td></tr><tr><td>&quot;Felbermair,&nbsp;S;&nbsp;Lammer,&nbsp;F;&nbsp;Trau…</td><td>&quot;Generating&nbsp;synthetic&nbsp;populatio…</td><td>2020</td><td>&quot;11TH&nbsp;INTERNATIONAL&nbsp;CONFERENCE&nbsp;…</td><td>&quot;Agent-based&nbsp;transport&nbsp;modellin…</td></tr><tr><td>&quot;Hafezi,&nbsp;MH;&nbsp;Habib,&nbsp;MA&quot;</td><td>&quot;Synthesizing&nbsp;Population&nbsp;for&nbsp;Mi…</td><td>2014</td><td>&quot;5TH&nbsp;INTERNATIONAL&nbsp;CONFERENCE&nbsp;O…</td><td>&quot;Due&nbsp;to&nbsp;the&nbsp;lack&nbsp;of&nbsp;availabilit…</td></tr><tr><td>&quot;Leao,&nbsp;SZ;&nbsp;Huynh,&nbsp;N;&nbsp;Taylor,&nbsp;A;…</td><td>&quot;Evolution&nbsp;of&nbsp;a&nbsp;Synthetic&nbsp;Popul…</td><td>2017</td><td>&quot;PLANNING&nbsp;SUPPORT&nbsp;SCIENCE&nbsp;FOR&nbsp;S…</td><td>&quot;This&nbsp;chapter&nbsp;proposes&nbsp;and&nbsp;test…</td></tr></tbody></table></div>"
      ],
      "text/plain": [
       "shape: (50, 5)\n",
       "┌──────────────────────┬──────────────────────┬──────┬──────────────────────┬──────────────────────┐\n",
       "│ Authors              ┆ Title                ┆ Year ┆ Source Title         ┆ Abstract             │\n",
       "│ ---                  ┆ ---                  ┆ ---  ┆ ---                  ┆ ---                  │\n",
       "│ str                  ┆ str                  ┆ i64  ┆ str                  ┆ str                  │\n",
       "╞══════════════════════╪══════════════════════╪══════╪══════════════════════╪══════════════════════╡\n",
       "│ Khachman, M;         ┆ Impact of the        ┆ 2021 ┆ ISPRS INTERNATIONAL  ┆ Microsimulation-base │\n",
       "│ Morency, C; Ciari…   ┆ Geographic Resol…    ┆      ┆ JOURNAL OF…          ┆ d models, …          │\n",
       "│ Guo, JY; Bhat, CR    ┆ Population synthesis ┆ 2007 ┆ TRANSPORTATION       ┆ For the forecasting  │\n",
       "│                      ┆ for micro…           ┆      ┆ RESEARCH RECORD      ┆ of activit…          │\n",
       "│ Rahman, MN; Fatmi,   ┆ Population Synthesis ┆ 2023 ┆ TRANSPORTATION       ┆ Agent-based          │\n",
       "│ MR                   ┆ Accommoda…           ┆      ┆ RESEARCH RECORD      ┆ microsimulation mo…  │\n",
       "│ McBride, EC; Davis,  ┆ Incorporating Land   ┆ 2017 ┆ TRANSPORTATION       ┆ This paper describes │\n",
       "│ AW; Lee, J…          ┆ Use into Me…         ┆      ┆ RESEARCH RECORD      ┆ a new met…           │\n",
       "│ Zhu, Y; Ferreira, J  ┆ Synthetic Population ┆ 2014 ┆ TRANSPORTATION       ┆ The execution of     │\n",
       "│                      ┆ Generatio…           ┆      ┆ RESEARCH RECORD      ┆ agent-based m…       │\n",
       "│ …                    ┆ …                    ┆ …    ┆ …                    ┆ …                    │\n",
       "│ Huynh, N;            ┆ Generating a         ┆ 2013 ┆ 20TH INTERNATIONAL   ┆ The complexity of    │\n",
       "│ Namazi-Rad, M;       ┆ Synthetic Populat…   ┆      ┆ CONGRESS ON…         ┆ large cities…        │\n",
       "│ Perez…               ┆                      ┆      ┆                      ┆                      │\n",
       "│ Murata, T; Iwase, D; ┆ Workplace Assignment ┆ 2023 ┆ IEEE TRANSACTIONS ON ┆ In this article, we  │\n",
       "│ Harada, T            ┆ to Worker…           ┆      ┆ COMPUTATI…           ┆ assign wor…          │\n",
       "│ Felbermair, S;       ┆ Generating synthetic ┆ 2020 ┆ 11TH INTERNATIONAL   ┆ Agent-based          │\n",
       "│ Lammer, F; Trau…     ┆ populatio…           ┆      ┆ CONFERENCE …         ┆ transport modellin…  │\n",
       "│ Hafezi, MH; Habib,   ┆ Synthesizing         ┆ 2014 ┆ 5TH INTERNATIONAL    ┆ Due to the lack of   │\n",
       "│ MA                   ┆ Population for Mi…   ┆      ┆ CONFERENCE O…        ┆ availabilit…         │\n",
       "│ Leao, SZ; Huynh, N;  ┆ Evolution of a       ┆ 2017 ┆ PLANNING SUPPORT     ┆ This chapter         │\n",
       "│ Taylor, A;…          ┆ Synthetic Popul…     ┆      ┆ SCIENCE FOR S…       ┆ proposes and test…   │\n",
       "└──────────────────────┴──────────────────────┴──────┴──────────────────────┴──────────────────────┘"
      ]
     },
     "execution_count": 7,
     "metadata": {},
     "output_type": "execute_result"
    }
   ],
   "source": [
    "wos_cols = [\"Authors\", \"Article Title\", \"Publication Year\", \"Source Title\", \"Abstract\"]\n",
    "wos_need = wos_raw[wos_cols]\n",
    "wos_need = wos_need.rename({\"Article Title\": \"Title\", \"Publication Year\": \"Year\"})\n",
    "wos_need"
   ]
  },
  {
   "cell_type": "code",
   "execution_count": 8,
   "metadata": {},
   "outputs": [
    {
     "data": {
      "text/html": [
       "<div><style>\n",
       ".dataframe > thead > tr,\n",
       ".dataframe > tbody > tr {\n",
       "  text-align: right;\n",
       "  white-space: pre-wrap;\n",
       "}\n",
       "</style>\n",
       "<small>shape: (177, 5)</small><table border=\"1\" class=\"dataframe\"><thead><tr><th>Authors</th><th>Title</th><th>Year</th><th>Source Title</th><th>Abstract</th></tr><tr><td>str</td><td>str</td><td>i64</td><td>str</td><td>str</td></tr></thead><tbody><tr><td>&quot;Huang&nbsp;Y.;&nbsp;Zhou&nbsp;M.;&nbsp;Deng&nbsp;R.;&nbsp;Hu…</td><td>&quot;An&nbsp;Integrated&nbsp;Framework&nbsp;for&nbsp;Po…</td><td>2023</td><td>&quot;Lecture&nbsp;Notes&nbsp;in&nbsp;Civil&nbsp;Enginee…</td><td>&quot;With&nbsp;the&nbsp;conception&nbsp;and&nbsp;develo…</td></tr><tr><td>&quot;Fuenmayor&nbsp;G.;&nbsp;Abraham&nbsp;J.E.;&nbsp;Do…</td><td>&quot;Building&nbsp;a&nbsp;PECAS&nbsp;Activity&nbsp;Allo…</td><td>2019</td><td>&quot;Journal&nbsp;of&nbsp;Transport&nbsp;and&nbsp;Land&nbsp;…</td><td>&quot;We&nbsp;applied&nbsp;the&nbsp;PECAS&nbsp;Framework…</td></tr><tr><td>&quot;Sallard&nbsp;A.;&nbsp;Balac&nbsp;M.&quot;</td><td>&quot;Travel&nbsp;demand&nbsp;generation&nbsp;using…</td><td>2023</td><td>&quot;Procedia&nbsp;Computer&nbsp;Science&quot;</td><td>&quot;Thanks&nbsp;to&nbsp;their&nbsp;ability&nbsp;to&nbsp;sim…</td></tr><tr><td>&quot;Fatmi&nbsp;M.R.;&nbsp;Habib&nbsp;M.A.&quot;</td><td>&quot;Microsimulation&nbsp;of&nbsp;life-stage&nbsp;…</td><td>2018</td><td>&quot;Computers,&nbsp;Environment&nbsp;and&nbsp;Urb…</td><td>&quot;This&nbsp;paper&nbsp;presents&nbsp;microsimul…</td></tr><tr><td>&quot;Bischoff&nbsp;J.;&nbsp;Maciejewski&nbsp;M.;&nbsp;S…</td><td>&quot;Autonomous&nbsp;Vehicles&nbsp;and&nbsp;their&nbsp;…</td><td>2019</td><td>&quot;IEEE&nbsp;Intelligent&nbsp;Transportatio…</td><td>&quot;Parking&nbsp;is&nbsp;a&nbsp;major&nbsp;constraint&nbsp;…</td></tr><tr><td>&hellip;</td><td>&hellip;</td><td>&hellip;</td><td>&hellip;</td><td>&hellip;</td></tr><tr><td>&quot;Heinrichs&nbsp;M.;&nbsp;Krajzewicz&nbsp;D.;&nbsp;C…</td><td>&quot;Disaggregated&nbsp;Car&nbsp;Fleets&nbsp;in&nbsp;Mi…</td><td>2016</td><td>&quot;Procedia&nbsp;Computer&nbsp;Science&quot;</td><td>&quot;Microscopic&nbsp;travel&nbsp;demand&nbsp;mode…</td></tr><tr><td>&quot;Gemmell&nbsp;P.;&nbsp;Burrage&nbsp;K.;&nbsp;Rodrig…</td><td>&quot;Population&nbsp;of&nbsp;computational&nbsp;ra…</td><td>2014</td><td>&quot;PLoS&nbsp;ONE&quot;</td><td>&quot;Variability&nbsp;is&nbsp;observed&nbsp;at&nbsp;all…</td></tr><tr><td>&quot;Rasouli&nbsp;S.;&nbsp;Timmermans&nbsp;H.&quot;</td><td>&quot;Effects&nbsp;of&nbsp;travel&nbsp;time&nbsp;delay&nbsp;o…</td><td>2014</td><td>&quot;Travel&nbsp;Behaviour&nbsp;and&nbsp;Society&quot;</td><td>&quot;This&nbsp;paper&nbsp;presents&nbsp;the&nbsp;result…</td></tr><tr><td>&quot;Hobeika&nbsp;A.G.;&nbsp;Paradkar&nbsp;R.&quot;</td><td>&quot;Comparative&nbsp;analysis&nbsp;of&nbsp;househ…</td><td>2004</td><td>&quot;Journal&nbsp;of&nbsp;Transportation&nbsp;Engi…</td><td>&quot;Transportation&nbsp;Analysis&nbsp;and&nbsp;Si…</td></tr><tr><td>&quot;Barthelemy&nbsp;J.;&nbsp;Toint&nbsp;P.L.&quot;</td><td>&quot;Synthetic&nbsp;population&nbsp;generatio…</td><td>2013</td><td>&quot;Transportation&nbsp;Science&quot;</td><td>&quot;The&nbsp;advent&nbsp;of&nbsp;microsimulation&nbsp;…</td></tr></tbody></table></div>"
      ],
      "text/plain": [
       "shape: (177, 5)\n",
       "┌──────────────────────┬──────────────────────┬──────┬──────────────────────┬──────────────────────┐\n",
       "│ Authors              ┆ Title                ┆ Year ┆ Source Title         ┆ Abstract             │\n",
       "│ ---                  ┆ ---                  ┆ ---  ┆ ---                  ┆ ---                  │\n",
       "│ str                  ┆ str                  ┆ i64  ┆ str                  ┆ str                  │\n",
       "╞══════════════════════╪══════════════════════╪══════╪══════════════════════╪══════════════════════╡\n",
       "│ Huang Y.; Zhou M.;   ┆ An Integrated        ┆ 2023 ┆ Lecture Notes in     ┆ With the conception  │\n",
       "│ Deng R.; Hu…         ┆ Framework for Po…    ┆      ┆ Civil Enginee…       ┆ and develo…          │\n",
       "│ Fuenmayor G.;        ┆ Building a PECAS     ┆ 2019 ┆ Journal of Transport ┆ We applied the PECAS │\n",
       "│ Abraham J.E.; Do…    ┆ Activity Allo…       ┆      ┆ and Land …           ┆ Framework…           │\n",
       "│ Sallard A.; Balac M. ┆ Travel demand        ┆ 2023 ┆ Procedia Computer    ┆ Thanks to their      │\n",
       "│                      ┆ generation using…    ┆      ┆ Science              ┆ ability to sim…      │\n",
       "│ Fatmi M.R.; Habib    ┆ Microsimulation of   ┆ 2018 ┆ Computers,           ┆ This paper presents  │\n",
       "│ M.A.                 ┆ life-stage …         ┆      ┆ Environment and Urb… ┆ microsimul…          │\n",
       "│ Bischoff J.;         ┆ Autonomous Vehicles  ┆ 2019 ┆ IEEE Intelligent     ┆ Parking is a major   │\n",
       "│ Maciejewski M.; S…   ┆ and their …          ┆      ┆ Transportatio…       ┆ constraint …         │\n",
       "│ …                    ┆ …                    ┆ …    ┆ …                    ┆ …                    │\n",
       "│ Heinrichs M.;        ┆ Disaggregated Car    ┆ 2016 ┆ Procedia Computer    ┆ Microscopic travel   │\n",
       "│ Krajzewicz D.; C…    ┆ Fleets in Mi…        ┆      ┆ Science              ┆ demand mode…         │\n",
       "│ Gemmell P.; Burrage  ┆ Population of        ┆ 2014 ┆ PLoS ONE             ┆ Variability is       │\n",
       "│ K.; Rodrig…          ┆ computational ra…    ┆      ┆                      ┆ observed at all…     │\n",
       "│ Rasouli S.;          ┆ Effects of travel    ┆ 2014 ┆ Travel Behaviour and ┆ This paper presents  │\n",
       "│ Timmermans H.        ┆ time delay o…        ┆      ┆ Society              ┆ the result…          │\n",
       "│ Hobeika A.G.;        ┆ Comparative analysis ┆ 2004 ┆ Journal of           ┆ Transportation       │\n",
       "│ Paradkar R.          ┆ of househ…           ┆      ┆ Transportation Engi… ┆ Analysis and Si…     │\n",
       "│ Barthelemy J.; Toint ┆ Synthetic population ┆ 2013 ┆ Transportation       ┆ The advent of        │\n",
       "│ P.L.                 ┆ generatio…           ┆      ┆ Science              ┆ microsimulation …    │\n",
       "└──────────────────────┴──────────────────────┴──────┴──────────────────────┴──────────────────────┘"
      ]
     },
     "execution_count": 8,
     "metadata": {},
     "output_type": "execute_result"
    }
   ],
   "source": [
    "scopus_cols = [\"Authors\", \"Title\", \"Year\", \"Source title\", \"Abstract\"]\n",
    "scopus_need = scopus_raw[scopus_cols]\n",
    "scopus_need = scopus_need.rename({\"Source title\": \"Source Title\"})\n",
    "scopus_need"
   ]
  },
  {
   "cell_type": "code",
   "execution_count": 9,
   "metadata": {},
   "outputs": [],
   "source": [
    "trid_raw = trid_raw.with_columns(\n",
    "    pl.when(pl.col(\"Publication date\").str.contains(\"/\")).then(pl.col(\"Publication date\").str.split(\"/\").list.reverse()).otherwise(pl.col(\"Publication date\").str.split(\"-\")).alias(\"break_date\")\n",
    ")\n",
    "trid_raw = trid_raw.with_columns(pl.col('break_date').list.to_struct(\n",
    "        fields=lambda idx: f\"pub_data_{idx}\",\n",
    "        n_field_strategy='max_width'\n",
    "        )\n",
    "    ).unnest(\"break_date\")"
   ]
  },
  {
   "cell_type": "code",
   "execution_count": 10,
   "metadata": {},
   "outputs": [],
   "source": [
    "trid_raw = trid_raw.with_columns(\n",
    "    (pl.col(\"Serial\").fill_null(\"\") + pl.col(\"Conference\").fill_null(\"\"))\n",
    "    .alias(\"Source Title\")\n",
    ")"
   ]
  },
  {
   "cell_type": "code",
   "execution_count": 11,
   "metadata": {},
   "outputs": [
    {
     "data": {
      "text/html": [
       "<div><style>\n",
       ".dataframe > thead > tr,\n",
       ".dataframe > tbody > tr {\n",
       "  text-align: right;\n",
       "  white-space: pre-wrap;\n",
       "}\n",
       "</style>\n",
       "<small>shape: (267, 5)</small><table border=\"1\" class=\"dataframe\"><thead><tr><th>Authors</th><th>Title</th><th>Year</th><th>Source Title</th><th>Abstract</th></tr><tr><td>str</td><td>str</td><td>i64</td><td>str</td><td>str</td></tr></thead><tbody><tr><td>&quot;Sun,&nbsp;LiJun&quot;</td><td>&quot;A&nbsp;Bayesian&nbsp;network&nbsp;approach&nbsp;fo…</td><td>2015</td><td>&quot;Transportation&nbsp;Research&nbsp;Part&nbsp;C…</td><td>&quot;Agent-based&nbsp;micro-simulation&nbsp;m…</td></tr><tr><td>&quot;Abed,&nbsp;Omar&quot;</td><td>&quot;A&nbsp;Bottom&nbsp;up&nbsp;Approach&nbsp;to&nbsp;Estima…</td><td>2014</td><td>&quot;Transportation&nbsp;Research&nbsp;Proced…</td><td>&quot;In&nbsp;order&nbsp;to&nbsp;model&nbsp;freight&nbsp;move…</td></tr><tr><td>&quot;Foot,&nbsp;DHS&quot;</td><td>&quot;A&nbsp;COMPARISON&nbsp;OF&nbsp;SOME&nbsp;LAND-USE&nbsp;…</td><td>1974</td><td>&quot;INTERNATIONAL&nbsp;JOURNAL&nbsp;OF&nbsp;SOLID…</td><td>&quot;This&nbsp;is&nbsp;an&nbsp;attempt&nbsp;to&nbsp;compare&nbsp;…</td></tr><tr><td>&quot;Kim,&nbsp;Eui-Jin&quot;</td><td>&quot;A&nbsp;deep&nbsp;generative&nbsp;model&nbsp;for&nbsp;fe…</td><td>2023</td><td>&quot;Transportation&nbsp;Research&nbsp;Part&nbsp;C…</td><td>&quot;An&nbsp;agent-based&nbsp;model&nbsp;(ABM)&nbsp;sim…</td></tr><tr><td>&quot;Liu,&nbsp;Bingqing&quot;</td><td>&quot;A&nbsp;districting&nbsp;problem&nbsp;with&nbsp;dat…</td><td>2024</td><td>&quot;Transportation&nbsp;Research&nbsp;Part&nbsp;C…</td><td>&quot;While&nbsp;data&nbsp;plays&nbsp;an&nbsp;important&nbsp;…</td></tr><tr><td>&hellip;</td><td>&hellip;</td><td>&hellip;</td><td>&hellip;</td><td>&hellip;</td></tr><tr><td>&quot;Clarke,&nbsp;P&quot;</td><td>&quot;Using&nbsp;Truro&#x27;s&nbsp;activity&nbsp;based&nbsp;p…</td><td>2008</td><td>&quot;EUROPEAN&nbsp;TRANSPORT&nbsp;CONFERENCE&nbsp;…</td><td>&quot;The&nbsp;inclusion&nbsp;of&nbsp;peak&nbsp;spreadin…</td></tr><tr><td>&quot;Bowman,&nbsp;John&nbsp;L&quot;</td><td>&quot;Validation&nbsp;of&nbsp;Atlanta,&nbsp;Georgia…</td><td>2008</td><td>&quot;Transportation&nbsp;Research&nbsp;Board&nbsp;…</td><td>&quot;This&nbsp;paper&nbsp;presents&nbsp;the&nbsp;result…</td></tr><tr><td>&quot;Zhao,&nbsp;Yong&quot;</td><td>&quot;Welfare&nbsp;calculations&nbsp;in&nbsp;discre…</td><td>2012</td><td>&quot;Transport&nbsp;Policy&quot;</td><td>&quot;A&nbsp;difference&nbsp;in&nbsp;logsum&nbsp;terms&nbsp;(…</td></tr><tr><td>&quot;Zhao,&nbsp;Yong&quot;</td><td>&quot;Welfare&nbsp;Calculations&nbsp;in&nbsp;Discre…</td><td>2008</td><td>&quot;Transportation&nbsp;Research&nbsp;Board&nbsp;…</td><td>&quot;A&nbsp;difference&nbsp;in&nbsp;logsum&nbsp;terms&nbsp;(…</td></tr><tr><td>&quot;Komanduri,&nbsp;Anurag&quot;</td><td>&quot;Work&nbsp;Location&nbsp;and&nbsp;Industry&nbsp;Cla…</td><td>2017</td><td>&quot;Transportation&nbsp;Research&nbsp;Record…</td><td>&quot;Activity-based&nbsp;models&nbsp;(ABMs)&nbsp;t…</td></tr></tbody></table></div>"
      ],
      "text/plain": [
       "shape: (267, 5)\n",
       "┌───────────────────┬───────────────────────┬──────┬───────────────────────┬───────────────────────┐\n",
       "│ Authors           ┆ Title                 ┆ Year ┆ Source Title          ┆ Abstract              │\n",
       "│ ---               ┆ ---                   ┆ ---  ┆ ---                   ┆ ---                   │\n",
       "│ str               ┆ str                   ┆ i64  ┆ str                   ┆ str                   │\n",
       "╞═══════════════════╪═══════════════════════╪══════╪═══════════════════════╪═══════════════════════╡\n",
       "│ Sun, LiJun        ┆ A Bayesian network    ┆ 2015 ┆ Transportation        ┆ Agent-based           │\n",
       "│                   ┆ approach fo…          ┆      ┆ Research Part C…      ┆ micro-simulation m…   │\n",
       "│ Abed, Omar        ┆ A Bottom up Approach  ┆ 2014 ┆ Transportation        ┆ In order to model     │\n",
       "│                   ┆ to Estima…            ┆      ┆ Research Proced…      ┆ freight move…         │\n",
       "│ Foot, DHS         ┆ A COMPARISON OF SOME  ┆ 1974 ┆ INTERNATIONAL JOURNAL ┆ This is an attempt to │\n",
       "│                   ┆ LAND-USE …            ┆      ┆ OF SOLID…             ┆ compare …             │\n",
       "│ Kim, Eui-Jin      ┆ A deep generative     ┆ 2023 ┆ Transportation        ┆ An agent-based model  │\n",
       "│                   ┆ model for fe…         ┆      ┆ Research Part C…      ┆ (ABM) sim…            │\n",
       "│ Liu, Bingqing     ┆ A districting problem ┆ 2024 ┆ Transportation        ┆ While data plays an   │\n",
       "│                   ┆ with dat…             ┆      ┆ Research Part C…      ┆ important …           │\n",
       "│ …                 ┆ …                     ┆ …    ┆ …                     ┆ …                     │\n",
       "│ Clarke, P         ┆ Using Truro's         ┆ 2008 ┆ EUROPEAN TRANSPORT    ┆ The inclusion of peak │\n",
       "│                   ┆ activity based p…     ┆      ┆ CONFERENCE …          ┆ spreadin…             │\n",
       "│ Bowman, John L    ┆ Validation of         ┆ 2008 ┆ Transportation        ┆ This paper presents   │\n",
       "│                   ┆ Atlanta, Georgia…     ┆      ┆ Research Board …      ┆ the result…           │\n",
       "│ Zhao, Yong        ┆ Welfare calculations  ┆ 2012 ┆ Transport Policy      ┆ A difference in       │\n",
       "│                   ┆ in discre…            ┆      ┆                       ┆ logsum terms (…       │\n",
       "│ Zhao, Yong        ┆ Welfare Calculations  ┆ 2008 ┆ Transportation        ┆ A difference in       │\n",
       "│                   ┆ in Discre…            ┆      ┆ Research Board …      ┆ logsum terms (…       │\n",
       "│ Komanduri, Anurag ┆ Work Location and     ┆ 2017 ┆ Transportation        ┆ Activity-based models │\n",
       "│                   ┆ Industry Cla…         ┆      ┆ Research Record…      ┆ (ABMs) t…             │\n",
       "└───────────────────┴───────────────────────┴──────┴───────────────────────┴───────────────────────┘"
      ]
     },
     "execution_count": 11,
     "metadata": {},
     "output_type": "execute_result"
    }
   ],
   "source": [
    "trid_cols = [\"Author1\", \"Title\", \"pub_data_0\", \"Source Title\", \"Abstract\"]\n",
    "trid_need = trid_raw[trid_cols]\n",
    "trid_need = trid_need.rename({\"Author1\": \"Authors\", \"pub_data_0\": \"Year\"})\n",
    "trid_need = trid_need.with_columns(\n",
    "    pl.col(\"Year\").cast(int)\n",
    ")\n",
    "trid_need"
   ]
  },
  {
   "cell_type": "code",
   "execution_count": 12,
   "metadata": {},
   "outputs": [],
   "source": [
    "final_combined = pl.concat([scopus_need, wos_need, trid_need])"
   ]
  },
  {
   "cell_type": "code",
   "execution_count": 13,
   "metadata": {},
   "outputs": [
    {
     "data": {
      "text/html": [
       "<div><style>\n",
       ".dataframe > thead > tr,\n",
       ".dataframe > tbody > tr {\n",
       "  text-align: right;\n",
       "  white-space: pre-wrap;\n",
       "}\n",
       "</style>\n",
       "<small>shape: (494, 5)</small><table border=\"1\" class=\"dataframe\"><thead><tr><th>Authors</th><th>Title</th><th>Year</th><th>Source Title</th><th>Abstract</th></tr><tr><td>str</td><td>str</td><td>i64</td><td>str</td><td>str</td></tr></thead><tbody><tr><td>&quot;Huang&nbsp;Y.;&nbsp;Zhou&nbsp;M.;&nbsp;Deng&nbsp;R.;&nbsp;Hu…</td><td>&quot;An&nbsp;Integrated&nbsp;Framework&nbsp;for&nbsp;Po…</td><td>2023</td><td>&quot;Lecture&nbsp;Notes&nbsp;in&nbsp;Civil&nbsp;Enginee…</td><td>&quot;With&nbsp;the&nbsp;conception&nbsp;and&nbsp;develo…</td></tr><tr><td>&quot;Fuenmayor&nbsp;G.;&nbsp;Abraham&nbsp;J.E.;&nbsp;Do…</td><td>&quot;Building&nbsp;a&nbsp;PECAS&nbsp;Activity&nbsp;Allo…</td><td>2019</td><td>&quot;Journal&nbsp;of&nbsp;Transport&nbsp;and&nbsp;Land&nbsp;…</td><td>&quot;We&nbsp;applied&nbsp;the&nbsp;PECAS&nbsp;Framework…</td></tr><tr><td>&quot;Sallard&nbsp;A.;&nbsp;Balac&nbsp;M.&quot;</td><td>&quot;Travel&nbsp;demand&nbsp;generation&nbsp;using…</td><td>2023</td><td>&quot;Procedia&nbsp;Computer&nbsp;Science&quot;</td><td>&quot;Thanks&nbsp;to&nbsp;their&nbsp;ability&nbsp;to&nbsp;sim…</td></tr><tr><td>&quot;Fatmi&nbsp;M.R.;&nbsp;Habib&nbsp;M.A.&quot;</td><td>&quot;Microsimulation&nbsp;of&nbsp;life-stage&nbsp;…</td><td>2018</td><td>&quot;Computers,&nbsp;Environment&nbsp;and&nbsp;Urb…</td><td>&quot;This&nbsp;paper&nbsp;presents&nbsp;microsimul…</td></tr><tr><td>&quot;Bischoff&nbsp;J.;&nbsp;Maciejewski&nbsp;M.;&nbsp;S…</td><td>&quot;Autonomous&nbsp;Vehicles&nbsp;and&nbsp;their&nbsp;…</td><td>2019</td><td>&quot;IEEE&nbsp;Intelligent&nbsp;Transportatio…</td><td>&quot;Parking&nbsp;is&nbsp;a&nbsp;major&nbsp;constraint&nbsp;…</td></tr><tr><td>&hellip;</td><td>&hellip;</td><td>&hellip;</td><td>&hellip;</td><td>&hellip;</td></tr><tr><td>&quot;Clarke,&nbsp;P&quot;</td><td>&quot;Using&nbsp;Truro&#x27;s&nbsp;activity&nbsp;based&nbsp;p…</td><td>2008</td><td>&quot;EUROPEAN&nbsp;TRANSPORT&nbsp;CONFERENCE&nbsp;…</td><td>&quot;The&nbsp;inclusion&nbsp;of&nbsp;peak&nbsp;spreadin…</td></tr><tr><td>&quot;Bowman,&nbsp;John&nbsp;L&quot;</td><td>&quot;Validation&nbsp;of&nbsp;Atlanta,&nbsp;Georgia…</td><td>2008</td><td>&quot;Transportation&nbsp;Research&nbsp;Board&nbsp;…</td><td>&quot;This&nbsp;paper&nbsp;presents&nbsp;the&nbsp;result…</td></tr><tr><td>&quot;Zhao,&nbsp;Yong&quot;</td><td>&quot;Welfare&nbsp;calculations&nbsp;in&nbsp;discre…</td><td>2012</td><td>&quot;Transport&nbsp;Policy&quot;</td><td>&quot;A&nbsp;difference&nbsp;in&nbsp;logsum&nbsp;terms&nbsp;(…</td></tr><tr><td>&quot;Zhao,&nbsp;Yong&quot;</td><td>&quot;Welfare&nbsp;Calculations&nbsp;in&nbsp;Discre…</td><td>2008</td><td>&quot;Transportation&nbsp;Research&nbsp;Board&nbsp;…</td><td>&quot;A&nbsp;difference&nbsp;in&nbsp;logsum&nbsp;terms&nbsp;(…</td></tr><tr><td>&quot;Komanduri,&nbsp;Anurag&quot;</td><td>&quot;Work&nbsp;Location&nbsp;and&nbsp;Industry&nbsp;Cla…</td><td>2017</td><td>&quot;Transportation&nbsp;Research&nbsp;Record…</td><td>&quot;Activity-based&nbsp;models&nbsp;(ABMs)&nbsp;t…</td></tr></tbody></table></div>"
      ],
      "text/plain": [
       "shape: (494, 5)\n",
       "┌──────────────────────┬──────────────────────┬──────┬──────────────────────┬──────────────────────┐\n",
       "│ Authors              ┆ Title                ┆ Year ┆ Source Title         ┆ Abstract             │\n",
       "│ ---                  ┆ ---                  ┆ ---  ┆ ---                  ┆ ---                  │\n",
       "│ str                  ┆ str                  ┆ i64  ┆ str                  ┆ str                  │\n",
       "╞══════════════════════╪══════════════════════╪══════╪══════════════════════╪══════════════════════╡\n",
       "│ Huang Y.; Zhou M.;   ┆ An Integrated        ┆ 2023 ┆ Lecture Notes in     ┆ With the conception  │\n",
       "│ Deng R.; Hu…         ┆ Framework for Po…    ┆      ┆ Civil Enginee…       ┆ and develo…          │\n",
       "│ Fuenmayor G.;        ┆ Building a PECAS     ┆ 2019 ┆ Journal of Transport ┆ We applied the PECAS │\n",
       "│ Abraham J.E.; Do…    ┆ Activity Allo…       ┆      ┆ and Land …           ┆ Framework…           │\n",
       "│ Sallard A.; Balac M. ┆ Travel demand        ┆ 2023 ┆ Procedia Computer    ┆ Thanks to their      │\n",
       "│                      ┆ generation using…    ┆      ┆ Science              ┆ ability to sim…      │\n",
       "│ Fatmi M.R.; Habib    ┆ Microsimulation of   ┆ 2018 ┆ Computers,           ┆ This paper presents  │\n",
       "│ M.A.                 ┆ life-stage …         ┆      ┆ Environment and Urb… ┆ microsimul…          │\n",
       "│ Bischoff J.;         ┆ Autonomous Vehicles  ┆ 2019 ┆ IEEE Intelligent     ┆ Parking is a major   │\n",
       "│ Maciejewski M.; S…   ┆ and their …          ┆      ┆ Transportatio…       ┆ constraint …         │\n",
       "│ …                    ┆ …                    ┆ …    ┆ …                    ┆ …                    │\n",
       "│ Clarke, P            ┆ Using Truro's        ┆ 2008 ┆ EUROPEAN TRANSPORT   ┆ The inclusion of     │\n",
       "│                      ┆ activity based p…    ┆      ┆ CONFERENCE …         ┆ peak spreadin…       │\n",
       "│ Bowman, John L       ┆ Validation of        ┆ 2008 ┆ Transportation       ┆ This paper presents  │\n",
       "│                      ┆ Atlanta, Georgia…    ┆      ┆ Research Board …     ┆ the result…          │\n",
       "│ Zhao, Yong           ┆ Welfare calculations ┆ 2012 ┆ Transport Policy     ┆ A difference in      │\n",
       "│                      ┆ in discre…           ┆      ┆                      ┆ logsum terms (…      │\n",
       "│ Zhao, Yong           ┆ Welfare Calculations ┆ 2008 ┆ Transportation       ┆ A difference in      │\n",
       "│                      ┆ in Discre…           ┆      ┆ Research Board …     ┆ logsum terms (…      │\n",
       "│ Komanduri, Anurag    ┆ Work Location and    ┆ 2017 ┆ Transportation       ┆ Activity-based       │\n",
       "│                      ┆ Industry Cla…        ┆      ┆ Research Record…     ┆ models (ABMs) t…     │\n",
       "└──────────────────────┴──────────────────────┴──────┴──────────────────────┴──────────────────────┘"
      ]
     },
     "execution_count": 13,
     "metadata": {},
     "output_type": "execute_result"
    }
   ],
   "source": [
    "final_combined"
   ]
  },
  {
   "cell_type": "code",
   "execution_count": 14,
   "metadata": {},
   "outputs": [],
   "source": [
    "final_combined.write_csv(\"combined_results_3_12.csv\")"
   ]
  },
  {
   "cell_type": "code",
   "execution_count": null,
   "metadata": {},
   "outputs": [],
   "source": []
  }
 ],
 "metadata": {
  "kernelspec": {
   "display_name": "review_popsyn",
   "language": "python",
   "name": "python3"
  },
  "language_info": {
   "codemirror_mode": {
    "name": "ipython",
    "version": 3
   },
   "file_extension": ".py",
   "mimetype": "text/x-python",
   "name": "python",
   "nbconvert_exporter": "python",
   "pygments_lexer": "ipython3",
   "version": "3.9.20"
  }
 },
 "nbformat": 4,
 "nbformat_minor": 2
}
