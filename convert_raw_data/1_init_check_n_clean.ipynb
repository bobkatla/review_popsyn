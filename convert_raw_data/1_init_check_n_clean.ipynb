{
 "cells": [
  {
   "cell_type": "code",
   "execution_count": 1,
   "metadata": {},
   "outputs": [],
   "source": [
    "import polars as pl"
   ]
  },
  {
   "cell_type": "code",
   "execution_count": 2,
   "metadata": {},
   "outputs": [],
   "source": [
    "scopus_raw = pl.read_csv(r\"C:\\Users\\dlaa0001\\Documents\\PhD\\review_paper\\data\\raw\\8.12.2024\\scopus_8-12-24.csv\")\n",
    "trid_raw = pl.read_csv(r\"C:\\Users\\dlaa0001\\Documents\\PhD\\review_paper\\data\\raw\\8.12.2024\\TRID-CSV_2024-12-08.csv\", ignore_errors=True)\n",
    "wos_raw = pl.read_excel(r\"C:\\Users\\dlaa0001\\Documents\\PhD\\review_paper\\data\\raw\\8.12.2024\\wos_8-12-24.xls\")"
   ]
  },
  {
   "cell_type": "code",
   "execution_count": 3,
   "metadata": {},
   "outputs": [
    {
     "data": {
      "text/html": [
       "<div><style>\n",
       ".dataframe > thead > tr,\n",
       ".dataframe > tbody > tr {\n",
       "  text-align: right;\n",
       "  white-space: pre-wrap;\n",
       "}\n",
       "</style>\n",
       "<small>shape: (407, 5)</small><table border=\"1\" class=\"dataframe\"><thead><tr><th>Authors</th><th>Title</th><th>Year</th><th>Source Title</th><th>Abstract</th></tr><tr><td>str</td><td>str</td><td>i64</td><td>str</td><td>str</td></tr></thead><tbody><tr><td>&quot;Imran,&nbsp;MM;&nbsp;Kim,&nbsp;Y;&nbsp;Jung,&nbsp;GS;&nbsp;K…</td><td>&quot;EFFECTS&nbsp;OF&nbsp;DIFFERENT&nbsp;POPULATIO…</td><td>2023</td><td>&quot;INTERNATIONAL&nbsp;JOURNAL&nbsp;OF&nbsp;INDUS…</td><td>&quot;The&nbsp;advent&nbsp;of&nbsp;population&nbsp;synth…</td></tr><tr><td>&quot;Badu-Marfo,&nbsp;G;&nbsp;Farooq,&nbsp;B;&nbsp;Patt…</td><td>&quot;Composite&nbsp;Travel&nbsp;Generative&nbsp;Ad…</td><td>2022</td><td>&quot;IEEE&nbsp;TRANSACTIONS&nbsp;ON&nbsp;INTELLIGE…</td><td>&quot;Agent-based&nbsp;microsimulation&nbsp;ha…</td></tr><tr><td>&quot;Khachman,&nbsp;M;&nbsp;Morency,&nbsp;C;&nbsp;Ciari…</td><td>&quot;Impact&nbsp;of&nbsp;the&nbsp;Geographic&nbsp;Resol…</td><td>2021</td><td>&quot;ISPRS&nbsp;INTERNATIONAL&nbsp;JOURNAL&nbsp;OF…</td><td>&quot;Microsimulation-based&nbsp;models,&nbsp;…</td></tr><tr><td>&quot;Wickramasinghe,&nbsp;BN&quot;</td><td>&quot;Application&nbsp;Independent&nbsp;Heuris…</td><td>2019</td><td>&quot;JASSS-THE&nbsp;JOURNAL&nbsp;OF&nbsp;ARTIFICIA…</td><td>&quot;This&nbsp;work&nbsp;proposes&nbsp;a&nbsp;novel&nbsp;app…</td></tr><tr><td>&quot;Kim,&nbsp;EJ;&nbsp;Bansal,&nbsp;P&quot;</td><td>&quot;A&nbsp;deep&nbsp;generative&nbsp;model&nbsp;for&nbsp;fe…</td><td>2023</td><td>&quot;TRANSPORTATION&nbsp;RESEARCH&nbsp;PART&nbsp;C…</td><td>&quot;An&nbsp;agent-based&nbsp;model&nbsp;(ABM)&nbsp;sim…</td></tr><tr><td>&hellip;</td><td>&hellip;</td><td>&hellip;</td><td>&hellip;</td><td>&hellip;</td></tr><tr><td>&quot;Lovelace,&nbsp;R;&nbsp;Ballas,&nbsp;D;&nbsp;Watson…</td><td>&quot;A&nbsp;spatial&nbsp;microsimulation&nbsp;appr…</td><td>2014</td><td>&quot;JOURNAL&nbsp;OF&nbsp;TRANSPORT&nbsp;GEOGRAPHY&quot;</td><td>&quot;The&nbsp;daily&nbsp;trip&nbsp;to&nbsp;work&nbsp;is&nbsp;ubiq…</td></tr><tr><td>&quot;Zhu,&nbsp;Y;&nbsp;Diao,&nbsp;M;&nbsp;Ferreira,&nbsp;J;&nbsp;…</td><td>&quot;An&nbsp;integrated&nbsp;microsimulation&nbsp;…</td><td>2018</td><td>&quot;JOURNAL&nbsp;OF&nbsp;TRANSPORT&nbsp;AND&nbsp;LAND&nbsp;…</td><td>&quot;This&nbsp;paper&nbsp;presents&nbsp;an&nbsp;overvie…</td></tr><tr><td>&quot;Hidalgo,&nbsp;MEM&quot;</td><td>&quot;A&nbsp;National&nbsp;Heat&nbsp;Demand&nbsp;Model&nbsp;f…</td><td>2017</td><td>&quot;AGENT&nbsp;BASED&nbsp;MODELLING&nbsp;OF&nbsp;URBAN…</td><td>&quot;Spatial&nbsp;microsimulation&nbsp;models…</td></tr><tr><td>&quot;Garber,&nbsp;MD;&nbsp;Labgold,&nbsp;K;&nbsp;Kramer…</td><td>&quot;On&nbsp;selection&nbsp;bias&nbsp;in&nbsp;compariso…</td><td>2022</td><td>&quot;ANNALS&nbsp;OF&nbsp;EPIDEMIOLOGY&quot;</td><td>&quot;Purpose:&nbsp;Passively&nbsp;generated&nbsp;c…</td></tr><tr><td>&quot;Saadi,&nbsp;I;&nbsp;Bruwier,&nbsp;M;&nbsp;Mustafa,…</td><td>&quot;Development&nbsp;trajectory&nbsp;of&nbsp;an&nbsp;i…</td><td>2018</td><td>&quot;TRANSPORTATION&nbsp;LETTERS-THE&nbsp;INT…</td><td>&quot;In&nbsp;this&nbsp;paper,&nbsp;the&nbsp;development…</td></tr></tbody></table></div>"
      ],
      "text/plain": [
       "shape: (407, 5)\n",
       "┌──────────────────────┬──────────────────────┬──────┬──────────────────────┬──────────────────────┐\n",
       "│ Authors              ┆ Title                ┆ Year ┆ Source Title         ┆ Abstract             │\n",
       "│ ---                  ┆ ---                  ┆ ---  ┆ ---                  ┆ ---                  │\n",
       "│ str                  ┆ str                  ┆ i64  ┆ str                  ┆ str                  │\n",
       "╞══════════════════════╪══════════════════════╪══════╪══════════════════════╪══════════════════════╡\n",
       "│ Imran, MM; Kim, Y;   ┆ EFFECTS OF DIFFERENT ┆ 2023 ┆ INTERNATIONAL        ┆ The advent of        │\n",
       "│ Jung, GS; K…         ┆ POPULATIO…           ┆      ┆ JOURNAL OF INDUS…    ┆ population synth…    │\n",
       "│ Badu-Marfo, G;       ┆ Composite Travel     ┆ 2022 ┆ IEEE TRANSACTIONS ON ┆ Agent-based          │\n",
       "│ Farooq, B; Patt…     ┆ Generative Ad…       ┆      ┆ INTELLIGE…           ┆ microsimulation ha…  │\n",
       "│ Khachman, M;         ┆ Impact of the        ┆ 2021 ┆ ISPRS INTERNATIONAL  ┆ Microsimulation-base │\n",
       "│ Morency, C; Ciari…   ┆ Geographic Resol…    ┆      ┆ JOURNAL OF…          ┆ d models, …          │\n",
       "│ Wickramasinghe, BN   ┆ Application          ┆ 2019 ┆ JASSS-THE JOURNAL OF ┆ This work proposes a │\n",
       "│                      ┆ Independent Heuris…  ┆      ┆ ARTIFICIA…           ┆ novel app…           │\n",
       "│ Kim, EJ; Bansal, P   ┆ A deep generative    ┆ 2023 ┆ TRANSPORTATION       ┆ An agent-based model │\n",
       "│                      ┆ model for fe…        ┆      ┆ RESEARCH PART C…     ┆ (ABM) sim…           │\n",
       "│ …                    ┆ …                    ┆ …    ┆ …                    ┆ …                    │\n",
       "│ Lovelace, R; Ballas, ┆ A spatial            ┆ 2014 ┆ JOURNAL OF TRANSPORT ┆ The daily trip to    │\n",
       "│ D; Watson…           ┆ microsimulation      ┆      ┆ GEOGRAPHY            ┆ work is ubiq…        │\n",
       "│                      ┆ appr…                ┆      ┆                      ┆                      │\n",
       "│ Zhu, Y; Diao, M;     ┆ An integrated        ┆ 2018 ┆ JOURNAL OF TRANSPORT ┆ This paper presents  │\n",
       "│ Ferreira, J; …       ┆ microsimulation …    ┆      ┆ AND LAND …           ┆ an overvie…          │\n",
       "│ Hidalgo, MEM         ┆ A National Heat      ┆ 2017 ┆ AGENT BASED          ┆ Spatial              │\n",
       "│                      ┆ Demand Model f…      ┆      ┆ MODELLING OF URBAN…  ┆ microsimulation      │\n",
       "│                      ┆                      ┆      ┆                      ┆ models…              │\n",
       "│ Garber, MD; Labgold, ┆ On selection bias in ┆ 2022 ┆ ANNALS OF            ┆ Purpose: Passively   │\n",
       "│ K; Kramer…           ┆ compariso…           ┆      ┆ EPIDEMIOLOGY         ┆ generated c…         │\n",
       "│ Saadi, I; Bruwier,   ┆ Development          ┆ 2018 ┆ TRANSPORTATION       ┆ In this paper, the   │\n",
       "│ M; Mustafa,…         ┆ trajectory of an i…  ┆      ┆ LETTERS-THE INT…     ┆ development…         │\n",
       "└──────────────────────┴──────────────────────┴──────┴──────────────────────┴──────────────────────┘"
      ]
     },
     "execution_count": 3,
     "metadata": {},
     "output_type": "execute_result"
    }
   ],
   "source": [
    "wos_cols = [\"Authors\", \"Article Title\", \"Publication Year\", \"Source Title\", \"Abstract\"]\n",
    "wos_need = wos_raw[wos_cols]\n",
    "wos_need = wos_need.rename({\"Article Title\": \"Title\", \"Publication Year\": \"Year\"})\n",
    "wos_need"
   ]
  },
  {
   "cell_type": "code",
   "execution_count": 4,
   "metadata": {},
   "outputs": [
    {
     "data": {
      "text/html": [
       "<div><style>\n",
       ".dataframe > thead > tr,\n",
       ".dataframe > tbody > tr {\n",
       "  text-align: right;\n",
       "  white-space: pre-wrap;\n",
       "}\n",
       "</style>\n",
       "<small>shape: (854, 5)</small><table border=\"1\" class=\"dataframe\"><thead><tr><th>Authors</th><th>Title</th><th>Year</th><th>Source Title</th><th>Abstract</th></tr><tr><td>str</td><td>str</td><td>i64</td><td>str</td><td>str</td></tr></thead><tbody><tr><td>&quot;Gall&nbsp;T.;&nbsp;Hörl&nbsp;S.;&nbsp;Vallet&nbsp;F.;&nbsp;Y…</td><td>&quot;Integrating&nbsp;future&nbsp;trends&nbsp;and&nbsp;…</td><td>2023</td><td>&quot;European&nbsp;Transport&nbsp;Research&nbsp;Re…</td><td>&quot;Urban&nbsp;mobility&nbsp;contributes&nbsp;sig…</td></tr><tr><td>&quot;Arnaudon&nbsp;A.;&nbsp;Reva&nbsp;M.;&nbsp;Zbili&nbsp;M.…</td><td>&quot;Controlling&nbsp;morpho-electrophys…</td><td>2023</td><td>&quot;iScience&quot;</td><td>&quot;Variability,&nbsp;which&nbsp;is&nbsp;known&nbsp;to…</td></tr><tr><td>&quot;Thomopoulos&nbsp;V.;&nbsp;Tsichlas&nbsp;K.&quot;</td><td>&quot;An&nbsp;Agent-Based&nbsp;Model&nbsp;for&nbsp;Disea…</td><td>2024</td><td>&quot;Information&nbsp;(Switzerland)&quot;</td><td>&quot;In&nbsp;this&nbsp;research,&nbsp;we&nbsp;present&nbsp;t…</td></tr><tr><td>&quot;Manser&nbsp;P.;&nbsp;Haering&nbsp;T.;&nbsp;Hillel&nbsp;…</td><td>&quot;Estimating&nbsp;flexibility&nbsp;prefere…</td><td>2024</td><td>&quot;Transportation&quot;</td><td>&quot;This&nbsp;paper&nbsp;presents&nbsp;a&nbsp;novel&nbsp;ac…</td></tr><tr><td>&quot;Tapsoba&nbsp;A.T.;&nbsp;Combes&nbsp;J.-L.;&nbsp;Mo…</td><td>&quot;Does&nbsp;Youth&nbsp;Resentment&nbsp;Matter&nbsp;i…</td><td>2024</td><td>&quot;Journal&nbsp;of&nbsp;African&nbsp;Economies&quot;</td><td>&quot;The&nbsp;year&nbsp;2019&nbsp;marked&nbsp;an&nbsp;unprec…</td></tr><tr><td>&hellip;</td><td>&hellip;</td><td>&hellip;</td><td>&hellip;</td><td>&hellip;</td></tr><tr><td>&quot;Christensen&nbsp;H.B.&quot;</td><td>&quot;Review&nbsp;of&nbsp;the&nbsp;artificial&nbsp;popul…</td><td>1981</td><td>&quot;American&nbsp;Statistician&quot;</td><td>&quot;[No&nbsp;abstract&nbsp;available]&quot;</td></tr><tr><td>&quot;Hirth&nbsp;K.G.&quot;</td><td>&quot;Problems&nbsp;in&nbsp;data&nbsp;recovery&nbsp;and&nbsp;…</td><td>1978</td><td>&quot;Journal&nbsp;of&nbsp;Field&nbsp;Archaeology&quot;</td><td>&quot;The&nbsp;importance&nbsp;of&nbsp;demographic&nbsp;…</td></tr><tr><td>&quot;Burkhardt&nbsp;G.;&nbsp;Prakash&nbsp;A.&quot;</td><td>&quot;AN&nbsp;APPLICATION&nbsp;OF&nbsp;COMPUTER&nbsp;GRA…</td><td>1976</td><td>&quot;JAWRA&nbsp;Journal&nbsp;of&nbsp;the&nbsp;American&nbsp;…</td><td>&quot;ABSTRACT:&nbsp;&nbsp;A&nbsp;convenient&nbsp;method…</td></tr><tr><td>&quot;Dagli&nbsp;C.;&nbsp;Sittisathanchai&nbsp;S.&quot;</td><td>&quot;Genetic&nbsp;neuro-scheduler&nbsp;for&nbsp;jo…</td><td>1993</td><td>&quot;Computers&nbsp;and&nbsp;Industrial&nbsp;Engin…</td><td>&quot;This&nbsp;paper&nbsp;describes&nbsp;a&nbsp;hybrid&nbsp;…</td></tr><tr><td>&quot;Jones&nbsp;B.K.&quot;</td><td>&quot;The&nbsp;Gender&nbsp;Difference&nbsp;Hypothes…</td><td>1990</td><td>&quot;Educational&nbsp;Administration&nbsp;Qua…</td><td>&quot;The&nbsp;intent&nbsp;of&nbsp;this&nbsp;inquiry&nbsp;was…</td></tr></tbody></table></div>"
      ],
      "text/plain": [
       "shape: (854, 5)\n",
       "┌──────────────────────┬──────────────────────┬──────┬──────────────────────┬──────────────────────┐\n",
       "│ Authors              ┆ Title                ┆ Year ┆ Source Title         ┆ Abstract             │\n",
       "│ ---                  ┆ ---                  ┆ ---  ┆ ---                  ┆ ---                  │\n",
       "│ str                  ┆ str                  ┆ i64  ┆ str                  ┆ str                  │\n",
       "╞══════════════════════╪══════════════════════╪══════╪══════════════════════╪══════════════════════╡\n",
       "│ Gall T.; Hörl S.;    ┆ Integrating future   ┆ 2023 ┆ European Transport   ┆ Urban mobility       │\n",
       "│ Vallet F.; Y…        ┆ trends and …         ┆      ┆ Research Re…         ┆ contributes sig…     │\n",
       "│ Arnaudon A.; Reva    ┆ Controlling          ┆ 2023 ┆ iScience             ┆ Variability, which   │\n",
       "│ M.; Zbili M.…        ┆ morpho-electrophys…  ┆      ┆                      ┆ is known to…         │\n",
       "│ Thomopoulos V.;      ┆ An Agent-Based Model ┆ 2024 ┆ Information          ┆ In this research, we │\n",
       "│ Tsichlas K.          ┆ for Disea…           ┆      ┆ (Switzerland)        ┆ present t…           │\n",
       "│ Manser P.; Haering   ┆ Estimating           ┆ 2024 ┆ Transportation       ┆ This paper presents  │\n",
       "│ T.; Hillel …         ┆ flexibility prefere… ┆      ┆                      ┆ a novel ac…          │\n",
       "│ Tapsoba A.T.; Combes ┆ Does Youth           ┆ 2024 ┆ Journal of African   ┆ The year 2019 marked │\n",
       "│ J.-L.; Mo…           ┆ Resentment Matter i… ┆      ┆ Economies            ┆ an unprec…           │\n",
       "│ …                    ┆ …                    ┆ …    ┆ …                    ┆ …                    │\n",
       "│ Christensen H.B.     ┆ Review of the        ┆ 1981 ┆ American             ┆ [No abstract         │\n",
       "│                      ┆ artificial popul…    ┆      ┆ Statistician         ┆ available]           │\n",
       "│ Hirth K.G.           ┆ Problems in data     ┆ 1978 ┆ Journal of Field     ┆ The importance of    │\n",
       "│                      ┆ recovery and …       ┆      ┆ Archaeology          ┆ demographic …        │\n",
       "│ Burkhardt G.;        ┆ AN APPLICATION OF    ┆ 1976 ┆ JAWRA Journal of the ┆ ABSTRACT:  A         │\n",
       "│ Prakash A.           ┆ COMPUTER GRA…        ┆      ┆ American …           ┆ convenient method…   │\n",
       "│ Dagli C.;            ┆ Genetic              ┆ 1993 ┆ Computers and        ┆ This paper describes │\n",
       "│ Sittisathanchai S.   ┆ neuro-scheduler for  ┆      ┆ Industrial Engin…    ┆ a hybrid …           │\n",
       "│                      ┆ jo…                  ┆      ┆                      ┆                      │\n",
       "│ Jones B.K.           ┆ The Gender           ┆ 1990 ┆ Educational          ┆ The intent of this   │\n",
       "│                      ┆ Difference Hypothes… ┆      ┆ Administration Qua…  ┆ inquiry was…         │\n",
       "└──────────────────────┴──────────────────────┴──────┴──────────────────────┴──────────────────────┘"
      ]
     },
     "execution_count": 4,
     "metadata": {},
     "output_type": "execute_result"
    }
   ],
   "source": [
    "scopus_cols = [\"Authors\", \"Title\", \"Year\", \"Source title\", \"Abstract\"]\n",
    "scopus_need = scopus_raw[scopus_cols]\n",
    "scopus_need = scopus_need.rename({\"Source title\": \"Source Title\"})\n",
    "scopus_need"
   ]
  },
  {
   "cell_type": "code",
   "execution_count": 5,
   "metadata": {},
   "outputs": [],
   "source": [
    "trid_raw = trid_raw.with_columns(\n",
    "    pl.when(pl.col(\"Publication date\").str.contains(\"/\")).then(pl.col(\"Publication date\").str.split(\"/\").list.reverse()).otherwise(pl.col(\"Publication date\").str.split(\"-\")).alias(\"break_date\")\n",
    ")\n",
    "trid_raw = trid_raw.with_columns(pl.col('break_date').list.to_struct(\n",
    "        fields=lambda idx: f\"pub_data_{idx}\",\n",
    "        n_field_strategy='max_width'\n",
    "        )\n",
    "    ).unnest(\"break_date\")"
   ]
  },
  {
   "cell_type": "code",
   "execution_count": 6,
   "metadata": {},
   "outputs": [],
   "source": [
    "trid_raw = trid_raw.with_columns(\n",
    "    (pl.col(\"Serial\").fill_null(\"\") + pl.col(\"Conference\").fill_null(\"\"))\n",
    "    .alias(\"Source Title\")\n",
    ")"
   ]
  },
  {
   "cell_type": "code",
   "execution_count": 7,
   "metadata": {},
   "outputs": [
    {
     "data": {
      "text/html": [
       "<div><style>\n",
       ".dataframe > thead > tr,\n",
       ".dataframe > tbody > tr {\n",
       "  text-align: right;\n",
       "  white-space: pre-wrap;\n",
       "}\n",
       "</style>\n",
       "<small>shape: (271, 5)</small><table border=\"1\" class=\"dataframe\"><thead><tr><th>Authors</th><th>Title</th><th>Year</th><th>Source Title</th><th>Abstract</th></tr><tr><td>str</td><td>str</td><td>i64</td><td>str</td><td>str</td></tr></thead><tbody><tr><td>&quot;Kohlrautz,&nbsp;David&quot;</td><td>&quot;Planning&nbsp;for&nbsp;bicycle&nbsp;parking:&nbsp;…</td><td>2024</td><td>&quot;Journal&nbsp;of&nbsp;Cycling&nbsp;and&nbsp;Micromo…</td><td>&quot;Predicting&nbsp;bicycle&nbsp;parking&nbsp;dem…</td></tr><tr><td>&quot;Tozluoğlu,&nbsp;Çağlar&quot;</td><td>&quot;Potential&nbsp;of&nbsp;e-bikes&nbsp;to&nbsp;replac…</td><td>2024</td><td>&quot;Journal&nbsp;of&nbsp;Cycling&nbsp;and&nbsp;Micromo…</td><td>&quot;In&nbsp;Sweden,&nbsp;the&nbsp;transport&nbsp;secto…</td></tr><tr><td>&quot;Al-Khasawneh,&nbsp;Mohammad&nbsp;B&quot;</td><td>&quot;Using&nbsp;Small&nbsp;Area&nbsp;Estimation&nbsp;to…</td><td>2024</td><td>&quot;Data&nbsp;Science&nbsp;for&nbsp;Transportatio…</td><td>&quot;This&nbsp;paper&nbsp;proposes&nbsp;Small&nbsp;Area…</td></tr><tr><td>&quot;Jutras-Dubé,&nbsp;Pascal&quot;</td><td>&quot;Copula-based&nbsp;transferable&nbsp;mode…</td><td>2024</td><td>&quot;Transportation&nbsp;Research&nbsp;Part&nbsp;C…</td><td>&quot;Population&nbsp;synthesis&nbsp;involves&nbsp;…</td></tr><tr><td>&quot;Uğurel,&nbsp;Ekin&quot;</td><td>&quot;Learning&nbsp;to&nbsp;generate&nbsp;synthetic…</td><td>2024</td><td>&quot;Transportation&nbsp;Research&nbsp;Part&nbsp;B…</td><td>&quot;Passively-generated&nbsp;mobile&nbsp;dat…</td></tr><tr><td>&hellip;</td><td>&hellip;</td><td>&hellip;</td><td>&hellip;</td><td>&hellip;</td></tr><tr><td>&quot;Kosonen,&nbsp;I&quot;</td><td>&quot;THE&nbsp;POTENTIAL&nbsp;OF&nbsp;MICROSCOPIC&nbsp;S…</td><td>2001</td><td>&quot;PROCEEDINGS&nbsp;OF&nbsp;THE&nbsp;CONFERENCE&nbsp;…</td><td>&quot;Microscopic&nbsp;traffic&nbsp;simulation…</td></tr><tr><td>&quot;Strambi,&nbsp;O&quot;</td><td>&quot;TRIP&nbsp;GENERATION&nbsp;MODELING&nbsp;USING…</td><td>1998</td><td>&quot;Transportation&nbsp;Research&nbsp;Record&quot;</td><td>&quot;Conventional&nbsp;trip&nbsp;generation&nbsp;m…</td></tr><tr><td>&quot;Miller,&nbsp;E&nbsp;J&quot;</td><td>&quot;MICROSIMULATION&nbsp;AND&nbsp;ACTIVITY-B…</td><td>1997</td><td>&quot;Activity-Based&nbsp;Travel&nbsp;Forecast…</td><td>&quot;This&nbsp;paper&nbsp;provides&nbsp;an&nbsp;overvie…</td></tr><tr><td>&quot;Stopher,&nbsp;Peter&nbsp;R&quot;</td><td>&quot;BLOW&nbsp;UP:&nbsp;EXPANDING&nbsp;A&nbsp;COMPLEX&nbsp;R…</td><td>1993</td><td>&quot;Transportation&nbsp;Research&nbsp;Record&quot;</td><td>&quot;In&nbsp;April&nbsp;1991&nbsp;the&nbsp;Southern&nbsp;Cal…</td></tr><tr><td>&quot;Foot,&nbsp;DHS&quot;</td><td>&quot;A&nbsp;COMPARISON&nbsp;OF&nbsp;SOME&nbsp;LAND-USE&nbsp;…</td><td>1974</td><td>&quot;INTERNATIONAL&nbsp;JOURNAL&nbsp;OF&nbsp;SOLID…</td><td>&quot;This&nbsp;is&nbsp;an&nbsp;attempt&nbsp;to&nbsp;compare&nbsp;…</td></tr></tbody></table></div>"
      ],
      "text/plain": [
       "shape: (271, 5)\n",
       "┌──────────────────────┬──────────────────────┬──────┬──────────────────────┬──────────────────────┐\n",
       "│ Authors              ┆ Title                ┆ Year ┆ Source Title         ┆ Abstract             │\n",
       "│ ---                  ┆ ---                  ┆ ---  ┆ ---                  ┆ ---                  │\n",
       "│ str                  ┆ str                  ┆ i64  ┆ str                  ┆ str                  │\n",
       "╞══════════════════════╪══════════════════════╪══════╪══════════════════════╪══════════════════════╡\n",
       "│ Kohlrautz, David     ┆ Planning for bicycle ┆ 2024 ┆ Journal of Cycling   ┆ Predicting bicycle   │\n",
       "│                      ┆ parking: …           ┆      ┆ and Micromo…         ┆ parking dem…         │\n",
       "│ Tozluoğlu, Çağlar    ┆ Potential of e-bikes ┆ 2024 ┆ Journal of Cycling   ┆ In Sweden, the       │\n",
       "│                      ┆ to replac…           ┆      ┆ and Micromo…         ┆ transport secto…     │\n",
       "│ Al-Khasawneh,        ┆ Using Small Area     ┆ 2024 ┆ Data Science for     ┆ This paper proposes  │\n",
       "│ Mohammad B           ┆ Estimation to…       ┆      ┆ Transportatio…       ┆ Small Area…          │\n",
       "│ Jutras-Dubé, Pascal  ┆ Copula-based         ┆ 2024 ┆ Transportation       ┆ Population synthesis │\n",
       "│                      ┆ transferable mode…   ┆      ┆ Research Part C…     ┆ involves …           │\n",
       "│ Uğurel, Ekin         ┆ Learning to generate ┆ 2024 ┆ Transportation       ┆ Passively-generated  │\n",
       "│                      ┆ synthetic…           ┆      ┆ Research Part B…     ┆ mobile dat…          │\n",
       "│ …                    ┆ …                    ┆ …    ┆ …                    ┆ …                    │\n",
       "│ Kosonen, I           ┆ THE POTENTIAL OF     ┆ 2001 ┆ PROCEEDINGS OF THE   ┆ Microscopic traffic  │\n",
       "│                      ┆ MICROSCOPIC S…       ┆      ┆ CONFERENCE …         ┆ simulation…          │\n",
       "│ Strambi, O           ┆ TRIP GENERATION      ┆ 1998 ┆ Transportation       ┆ Conventional trip    │\n",
       "│                      ┆ MODELING USING…      ┆      ┆ Research Record      ┆ generation m…        │\n",
       "│ Miller, E J          ┆ MICROSIMULATION AND  ┆ 1997 ┆ Activity-Based       ┆ This paper provides  │\n",
       "│                      ┆ ACTIVITY-B…          ┆      ┆ Travel Forecast…     ┆ an overvie…          │\n",
       "│ Stopher, Peter R     ┆ BLOW UP: EXPANDING A ┆ 1993 ┆ Transportation       ┆ In April 1991 the    │\n",
       "│                      ┆ COMPLEX R…           ┆      ┆ Research Record      ┆ Southern Cal…        │\n",
       "│ Foot, DHS            ┆ A COMPARISON OF SOME ┆ 1974 ┆ INTERNATIONAL        ┆ This is an attempt   │\n",
       "│                      ┆ LAND-USE …           ┆      ┆ JOURNAL OF SOLID…    ┆ to compare …         │\n",
       "└──────────────────────┴──────────────────────┴──────┴──────────────────────┴──────────────────────┘"
      ]
     },
     "execution_count": 7,
     "metadata": {},
     "output_type": "execute_result"
    }
   ],
   "source": [
    "trid_cols = [\"Author1\", \"Title\", \"pub_data_0\", \"Source Title\", \"Abstract\"]\n",
    "trid_need = trid_raw[trid_cols]\n",
    "trid_need = trid_need.rename({\"Author1\": \"Authors\", \"pub_data_0\": \"Year\"})\n",
    "trid_need = trid_need.with_columns(\n",
    "    pl.col(\"Year\").cast(int)\n",
    ")\n",
    "trid_need"
   ]
  },
  {
   "cell_type": "code",
   "execution_count": 8,
   "metadata": {},
   "outputs": [],
   "source": [
    "to_combined_check = pl.concat([scopus_need, wos_need, trid_need])"
   ]
  },
  {
   "cell_type": "code",
   "execution_count": 9,
   "metadata": {},
   "outputs": [],
   "source": [
    "to_combined_check = to_combined_check.with_columns(\n",
    "    pl.col(\"Title\")\n",
    "    .str.to_lowercase()\n",
    "    .str.replace_all(r\"[^a-zA-Z0-9]\", \"\")\n",
    "    .alias(\"converted_title\")\n",
    ")"
   ]
  },
  {
   "cell_type": "code",
   "execution_count": 10,
   "metadata": {},
   "outputs": [],
   "source": [
    "final_combined = to_combined_check.filter(pl.col(\"converted_title\").is_first_distinct())"
   ]
  },
  {
   "cell_type": "code",
   "execution_count": 11,
   "metadata": {},
   "outputs": [
    {
     "data": {
      "text/html": [
       "<div><style>\n",
       ".dataframe > thead > tr,\n",
       ".dataframe > tbody > tr {\n",
       "  text-align: right;\n",
       "  white-space: pre-wrap;\n",
       "}\n",
       "</style>\n",
       "<small>shape: (1_061, 6)</small><table border=\"1\" class=\"dataframe\"><thead><tr><th>Authors</th><th>Title</th><th>Year</th><th>Source Title</th><th>Abstract</th><th>converted_title</th></tr><tr><td>str</td><td>str</td><td>i64</td><td>str</td><td>str</td><td>str</td></tr></thead><tbody><tr><td>&quot;Gall&nbsp;T.;&nbsp;Hörl&nbsp;S.;&nbsp;Vallet&nbsp;F.;&nbsp;Y…</td><td>&quot;Integrating&nbsp;future&nbsp;trends&nbsp;and&nbsp;…</td><td>2023</td><td>&quot;European&nbsp;Transport&nbsp;Research&nbsp;Re…</td><td>&quot;Urban&nbsp;mobility&nbsp;contributes&nbsp;sig…</td><td>&quot;integratingfuturetrendsandunce…</td></tr><tr><td>&quot;Arnaudon&nbsp;A.;&nbsp;Reva&nbsp;M.;&nbsp;Zbili&nbsp;M.…</td><td>&quot;Controlling&nbsp;morpho-electrophys…</td><td>2023</td><td>&quot;iScience&quot;</td><td>&quot;Variability,&nbsp;which&nbsp;is&nbsp;known&nbsp;to…</td><td>&quot;controllingmorphoelectrophysio…</td></tr><tr><td>&quot;Thomopoulos&nbsp;V.;&nbsp;Tsichlas&nbsp;K.&quot;</td><td>&quot;An&nbsp;Agent-Based&nbsp;Model&nbsp;for&nbsp;Disea…</td><td>2024</td><td>&quot;Information&nbsp;(Switzerland)&quot;</td><td>&quot;In&nbsp;this&nbsp;research,&nbsp;we&nbsp;present&nbsp;t…</td><td>&quot;anagentbasedmodelfordiseaseepi…</td></tr><tr><td>&quot;Manser&nbsp;P.;&nbsp;Haering&nbsp;T.;&nbsp;Hillel&nbsp;…</td><td>&quot;Estimating&nbsp;flexibility&nbsp;prefere…</td><td>2024</td><td>&quot;Transportation&quot;</td><td>&quot;This&nbsp;paper&nbsp;presents&nbsp;a&nbsp;novel&nbsp;ac…</td><td>&quot;estimatingflexibilitypreferenc…</td></tr><tr><td>&quot;Tapsoba&nbsp;A.T.;&nbsp;Combes&nbsp;J.-L.;&nbsp;Mo…</td><td>&quot;Does&nbsp;Youth&nbsp;Resentment&nbsp;Matter&nbsp;i…</td><td>2024</td><td>&quot;Journal&nbsp;of&nbsp;African&nbsp;Economies&quot;</td><td>&quot;The&nbsp;year&nbsp;2019&nbsp;marked&nbsp;an&nbsp;unprec…</td><td>&quot;doesyouthresentmentmatterinund…</td></tr><tr><td>&hellip;</td><td>&hellip;</td><td>&hellip;</td><td>&hellip;</td><td>&hellip;</td><td>&hellip;</td></tr><tr><td>&quot;Arentze,&nbsp;T&quot;</td><td>&quot;CREATING&nbsp;SYNTHETIC&nbsp;POPULATIONS…</td><td>2001</td><td>&quot;PROCEEDINGS&nbsp;OF&nbsp;THE&nbsp;AET&nbsp;EUROPEA…</td><td>&quot;This&nbsp;paper&nbsp;develops&nbsp;a&nbsp;method&nbsp;b…</td><td>&quot;creatingsyntheticpopulationsap…</td></tr><tr><td>&quot;Kosonen,&nbsp;I&quot;</td><td>&quot;THE&nbsp;POTENTIAL&nbsp;OF&nbsp;MICROSCOPIC&nbsp;S…</td><td>2001</td><td>&quot;PROCEEDINGS&nbsp;OF&nbsp;THE&nbsp;CONFERENCE&nbsp;…</td><td>&quot;Microscopic&nbsp;traffic&nbsp;simulation…</td><td>&quot;thepotentialofmicroscopicsimul…</td></tr><tr><td>&quot;Miller,&nbsp;E&nbsp;J&quot;</td><td>&quot;MICROSIMULATION&nbsp;AND&nbsp;ACTIVITY-B…</td><td>1997</td><td>&quot;Activity-Based&nbsp;Travel&nbsp;Forecast…</td><td>&quot;This&nbsp;paper&nbsp;provides&nbsp;an&nbsp;overvie…</td><td>&quot;microsimulationandactivitybase…</td></tr><tr><td>&quot;Stopher,&nbsp;Peter&nbsp;R&quot;</td><td>&quot;BLOW&nbsp;UP:&nbsp;EXPANDING&nbsp;A&nbsp;COMPLEX&nbsp;R…</td><td>1993</td><td>&quot;Transportation&nbsp;Research&nbsp;Record&quot;</td><td>&quot;In&nbsp;April&nbsp;1991&nbsp;the&nbsp;Southern&nbsp;Cal…</td><td>&quot;blowupexpandingacomplexrandoms…</td></tr><tr><td>&quot;Foot,&nbsp;DHS&quot;</td><td>&quot;A&nbsp;COMPARISON&nbsp;OF&nbsp;SOME&nbsp;LAND-USE&nbsp;…</td><td>1974</td><td>&quot;INTERNATIONAL&nbsp;JOURNAL&nbsp;OF&nbsp;SOLID…</td><td>&quot;This&nbsp;is&nbsp;an&nbsp;attempt&nbsp;to&nbsp;compare&nbsp;…</td><td>&quot;acomparisonofsomelandusealloca…</td></tr></tbody></table></div>"
      ],
      "text/plain": [
       "shape: (1_061, 6)\n",
       "┌──────────────────┬──────────────────┬──────┬─────────────────┬─────────────────┬─────────────────┐\n",
       "│ Authors          ┆ Title            ┆ Year ┆ Source Title    ┆ Abstract        ┆ converted_title │\n",
       "│ ---              ┆ ---              ┆ ---  ┆ ---             ┆ ---             ┆ ---             │\n",
       "│ str              ┆ str              ┆ i64  ┆ str             ┆ str             ┆ str             │\n",
       "╞══════════════════╪══════════════════╪══════╪═════════════════╪═════════════════╪═════════════════╡\n",
       "│ Gall T.; Hörl    ┆ Integrating      ┆ 2023 ┆ European        ┆ Urban mobility  ┆ integratingfutu │\n",
       "│ S.; Vallet F.;   ┆ future trends    ┆      ┆ Transport       ┆ contributes     ┆ retrendsandunce │\n",
       "│ Y…               ┆ and …            ┆      ┆ Research Re…    ┆ sig…            ┆ …               │\n",
       "│ Arnaudon A.;     ┆ Controlling morp ┆ 2023 ┆ iScience        ┆ Variability,    ┆ controllingmorp │\n",
       "│ Reva M.; Zbili   ┆ ho-electrophys…  ┆      ┆                 ┆ which is known  ┆ hoelectrophysio │\n",
       "│ M.…              ┆                  ┆      ┆                 ┆ to…             ┆ …               │\n",
       "│ Thomopoulos V.;  ┆ An Agent-Based   ┆ 2024 ┆ Information     ┆ In this         ┆ anagentbasedmod │\n",
       "│ Tsichlas K.      ┆ Model for Disea… ┆      ┆ (Switzerland)   ┆ research, we    ┆ elfordiseaseepi │\n",
       "│                  ┆                  ┆      ┆                 ┆ present t…      ┆ …               │\n",
       "│ Manser P.;       ┆ Estimating       ┆ 2024 ┆ Transportation  ┆ This paper      ┆ estimatingflexi │\n",
       "│ Haering T.;      ┆ flexibility      ┆      ┆                 ┆ presents a      ┆ bilitypreferenc │\n",
       "│ Hillel …         ┆ prefere…         ┆      ┆                 ┆ novel ac…       ┆ …               │\n",
       "│ Tapsoba A.T.;    ┆ Does Youth       ┆ 2024 ┆ Journal of      ┆ The year 2019   ┆ doesyouthresent │\n",
       "│ Combes J.-L.;    ┆ Resentment       ┆      ┆ African         ┆ marked an       ┆ mentmatterinund │\n",
       "│ Mo…              ┆ Matter i…        ┆      ┆ Economies       ┆ unprec…         ┆ …               │\n",
       "│ …                ┆ …                ┆ …    ┆ …               ┆ …               ┆ …               │\n",
       "│ Arentze, T       ┆ CREATING         ┆ 2001 ┆ PROCEEDINGS OF  ┆ This paper      ┆ creatingsynthet │\n",
       "│                  ┆ SYNTHETIC        ┆      ┆ THE AET         ┆ develops a      ┆ icpopulationsap │\n",
       "│                  ┆ POPULATIONS…     ┆      ┆ EUROPEA…        ┆ method b…       ┆ …               │\n",
       "│ Kosonen, I       ┆ THE POTENTIAL OF ┆ 2001 ┆ PROCEEDINGS OF  ┆ Microscopic     ┆ thepotentialofm │\n",
       "│                  ┆ MICROSCOPIC S…   ┆      ┆ THE CONFERENCE  ┆ traffic         ┆ icroscopicsimul │\n",
       "│                  ┆                  ┆      ┆ …               ┆ simulation…     ┆ …               │\n",
       "│ Miller, E J      ┆ MICROSIMULATION  ┆ 1997 ┆ Activity-Based  ┆ This paper      ┆ microsimulation │\n",
       "│                  ┆ AND ACTIVITY-B…  ┆      ┆ Travel          ┆ provides an     ┆ andactivitybase │\n",
       "│                  ┆                  ┆      ┆ Forecast…       ┆ overvie…        ┆ …               │\n",
       "│ Stopher, Peter R ┆ BLOW UP:         ┆ 1993 ┆ Transportation  ┆ In April 1991   ┆ blowupexpanding │\n",
       "│                  ┆ EXPANDING A      ┆      ┆ Research Record ┆ the Southern    ┆ acomplexrandoms │\n",
       "│                  ┆ COMPLEX R…       ┆      ┆                 ┆ Cal…            ┆ …               │\n",
       "│ Foot, DHS        ┆ A COMPARISON OF  ┆ 1974 ┆ INTERNATIONAL   ┆ This is an      ┆ acomparisonofso │\n",
       "│                  ┆ SOME LAND-USE …  ┆      ┆ JOURNAL OF      ┆ attempt to      ┆ melandusealloca │\n",
       "│                  ┆                  ┆      ┆ SOLID…          ┆ compare …       ┆ …               │\n",
       "└──────────────────┴──────────────────┴──────┴─────────────────┴─────────────────┴─────────────────┘"
      ]
     },
     "execution_count": 11,
     "metadata": {},
     "output_type": "execute_result"
    }
   ],
   "source": [
    "final_combined"
   ]
  },
  {
   "cell_type": "code",
   "execution_count": 12,
   "metadata": {},
   "outputs": [
    {
     "name": "stdout",
     "output_type": "stream",
     "text": [
      "We have removed 471 duplicates from the combined dataset\n"
     ]
    }
   ],
   "source": [
    "print(f\"We have removed {len(to_combined_check) - len(final_combined)} duplicates from the combined dataset\")"
   ]
  },
  {
   "cell_type": "code",
   "execution_count": 13,
   "metadata": {},
   "outputs": [],
   "source": [
    "final_combined.write_csv(\"combined_results_8_12.csv\")"
   ]
  },
  {
   "cell_type": "code",
   "execution_count": null,
   "metadata": {},
   "outputs": [],
   "source": []
  }
 ],
 "metadata": {
  "kernelspec": {
   "display_name": "review_popsyn",
   "language": "python",
   "name": "python3"
  },
  "language_info": {
   "codemirror_mode": {
    "name": "ipython",
    "version": 3
   },
   "file_extension": ".py",
   "mimetype": "text/x-python",
   "name": "python",
   "nbconvert_exporter": "python",
   "pygments_lexer": "ipython3",
   "version": "3.9.20"
  }
 },
 "nbformat": 4,
 "nbformat_minor": 2
}
