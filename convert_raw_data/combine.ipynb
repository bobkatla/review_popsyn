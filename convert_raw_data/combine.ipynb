{
 "cells": [
  {
   "cell_type": "code",
   "execution_count": 1,
   "metadata": {},
   "outputs": [],
   "source": [
    "import pandas as pd"
   ]
  },
  {
   "cell_type": "code",
   "execution_count": 11,
   "metadata": {},
   "outputs": [
    {
     "data": {
      "text/plain": [
       "69"
      ]
     },
     "execution_count": 11,
     "metadata": {},
     "output_type": "execute_result"
    }
   ],
   "source": [
    "check_again_big = pd.read_csv(\"./further_check.csv\")\n",
    "check_again_smol = pd.read_csv(\"./already_check.csv\")"
   ]
  },
  {
   "cell_type": "code",
   "execution_count": 10,
   "metadata": {},
   "outputs": [
    {
     "data": {
      "text/plain": [
       "37"
      ]
     },
     "execution_count": 10,
     "metadata": {},
     "output_type": "execute_result"
    }
   ],
   "source": [
    "smol_filter = check_again_big[check_again_big[\"Check again\"]==\"NO\"]\n",
    "big_filter = check_again_smol[check_again_smol[\"Check again\"]==\"NO\"]\n",
    "len(smol_filter) + len(big_filter)"
   ]
  },
  {
   "cell_type": "code",
   "execution_count": 21,
   "metadata": {},
   "outputs": [
    {
     "data": {
      "text/plain": [
       "166"
      ]
     },
     "execution_count": 21,
     "metadata": {},
     "output_type": "execute_result"
    }
   ],
   "source": [
    "scopus_check = pd.read_csv(\"./scopus_check.csv\")\n",
    "wos_check = pd.read_csv(\"./wos_check.csv\")\n",
    "combine = pd.concat([scopus_check, wos_check])\n",
    "combine_filter = combine[combine[\"Check\"]!=\"Not PopSyn\"]\n",
    "len(combine) - len(combine_filter)"
   ]
  },
  {
   "cell_type": "code",
   "execution_count": 25,
   "metadata": {},
   "outputs": [],
   "source": [
    "my_bib = pd.read_csv(\"./convert_bib/my_bib.csv\")"
   ]
  },
  {
   "cell_type": "code",
   "execution_count": 26,
   "metadata": {},
   "outputs": [],
   "source": [
    "my_bib[\"con\"] = my_bib[\"Title\"].str.replace(\"{\",\"\").str.replace(\"}\",\"\").str.lower().str.replace(\"-\",\"\").str.replace(\" \", \"\")"
   ]
  },
  {
   "cell_type": "code",
   "execution_count": 27,
   "metadata": {},
   "outputs": [
    {
     "name": "stderr",
     "output_type": "stream",
     "text": [
      "C:\\Users\\dlaa0001\\AppData\\Local\\Temp\\ipykernel_11132\\4176664435.py:1: SettingWithCopyWarning: \n",
      "A value is trying to be set on a copy of a slice from a DataFrame.\n",
      "Try using .loc[row_indexer,col_indexer] = value instead\n",
      "\n",
      "See the caveats in the documentation: https://pandas.pydata.org/pandas-docs/stable/user_guide/indexing.html#returning-a-view-versus-a-copy\n",
      "  combine_filter[\"con\"] = combine_filter[\"Title\"].str.replace(\"{\",\"\").str.replace(\"}\",\"\").str.lower().str.replace(\"-\",\"\").str.replace(\" \", \"\")\n"
     ]
    }
   ],
   "source": [
    "combine_filter[\"con\"] = combine_filter[\"Title\"].str.replace(\"{\",\"\").str.replace(\"}\",\"\").str.lower().str.replace(\"-\",\"\").str.replace(\" \", \"\")"
   ]
  },
  {
   "cell_type": "code",
   "execution_count": 29,
   "metadata": {},
   "outputs": [
    {
     "data": {
      "text/plain": [
       "{'abayesiannetworkapproachforpopulationsynthesis',\n",
       " 'advancesinpopulationsynthesis:fittingmanyattributesperagentandfittingtohouseholdandpersonmarginssimultaneously',\n",
       " 'ahierarchicalmixturemodelingframeworkforpopulationsynthesis',\n",
       " 'assignmentofasyntheticpopulationforactivitybasedmodelingemployingpubliclyavailabledata',\n",
       " 'compositetravelgenerativeadversarialnetworksfortabularandsequentialpopulationsynthesis',\n",
       " 'connectedpopulationsynthesisfortransportationsimulation',\n",
       " 'consistentpopulationsynthesiswithmultisocialrelationshipsbasedontensordecomposition',\n",
       " 'creatingspatiallydetailedheterogeneoussyntheticpopulationsforagentbasedmicrosimulation',\n",
       " 'creatingsyntheticbaselinepopulations',\n",
       " 'creatingsynthetichouseholdpopulations:problemsandapproach',\n",
       " 'crossentropyoptimizationmodelforpopulationsynthesisinactivitybasedmicrosimulationmodels',\n",
       " 'dataintegrationtocreatelargescalespatiallydetailedsyntheticpopulations',\n",
       " 'enhancedsyntheticpopulationgeneratorthataccommodatescontrolvariablesatmultiplegeographicresolutions',\n",
       " 'hiddenmarkovmodelbasedpopulationsynthesis',\n",
       " 'howtogeneratemicroagents?adeepgenerativemodelingapproachtopopulationsynthesis',\n",
       " 'integratedpopulationsynthesisandworkplaceassignmentusinganefficientoptimizationbasedpersonhouseholdmatchingmethod',\n",
       " 'integratingbayesiannetworkandgeneralizedrakingforpopulationsynthesisingreaterjakarta',\n",
       " 'oniterativeproportionalupdating:limitationsandimprovementsforgeneralpopulationsynthesis',\n",
       " 'populationsynthesisaccommodatingheterogeneity:abayesiannetworkandgeneralizedrakingtechnique',\n",
       " 'populationsynthesisformicrosimulatingtravelbehavior',\n",
       " 'populationsynthesisusingiterativeproportionalfitting(ipf):areviewandfutureresearch',\n",
       " 'simulationbasedpopulationsynthesis',\n",
       " 'syntheticpopulationgenerationatdisaggregatedspatialscalesforlanduseandtransportationmicrosimulation'}"
      ]
     },
     "execution_count": 29,
     "metadata": {},
     "output_type": "execute_result"
    }
   ],
   "source": [
    "a = set(combine_filter[\"con\"]) & set(my_bib[\"con\"])\n",
    "a"
   ]
  },
  {
   "cell_type": "code",
   "execution_count": 35,
   "metadata": {},
   "outputs": [
    {
     "data": {
      "text/plain": [
       "70"
      ]
     },
     "execution_count": 35,
     "metadata": {},
     "output_type": "execute_result"
    }
   ],
   "source": [
    "len(combine_filter)"
   ]
  },
  {
   "cell_type": "code",
   "execution_count": 39,
   "metadata": {},
   "outputs": [],
   "source": [
    "fin_combine_filter = combine_filter[~combine_filter[\"con\"].isin(a)]"
   ]
  },
  {
   "cell_type": "code",
   "execution_count": 40,
   "metadata": {},
   "outputs": [],
   "source": [
    "fin_combine_filter.drop(columns=[\"con\"])\n",
    "fin_combine_filter.to_csv(\"further_check.csv\", index=False)"
   ]
  },
  {
   "cell_type": "code",
   "execution_count": null,
   "metadata": {},
   "outputs": [],
   "source": []
  }
 ],
 "metadata": {
  "kernelspec": {
   "display_name": "popsyn",
   "language": "python",
   "name": "python3"
  },
  "language_info": {
   "codemirror_mode": {
    "name": "ipython",
    "version": 3
   },
   "file_extension": ".py",
   "mimetype": "text/x-python",
   "name": "python",
   "nbconvert_exporter": "python",
   "pygments_lexer": "ipython3",
   "version": "3.9.18"
  }
 },
 "nbformat": 4,
 "nbformat_minor": 2
}
