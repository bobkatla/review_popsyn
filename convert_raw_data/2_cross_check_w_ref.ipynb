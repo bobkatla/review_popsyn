{
 "cells": [
  {
   "cell_type": "code",
   "execution_count": 1,
   "metadata": {},
   "outputs": [],
   "source": [
    "import polars as pl"
   ]
  },
  {
   "cell_type": "code",
   "execution_count": 2,
   "metadata": {},
   "outputs": [],
   "source": [
    "my_bib = pl.read_csv(r\"C:\\Users\\dlaa0001\\Documents\\PhD\\review_paper\\data\\processed\\my_bib.csv\")"
   ]
  },
  {
   "cell_type": "code",
   "execution_count": 3,
   "metadata": {},
   "outputs": [],
   "source": [
    "my_bib = my_bib.with_columns(\n",
    "    pl.col(\"Title\")\n",
    "    .str.to_lowercase()\n",
    "    .str.replace_all(r\"[^a-zA-Z0-9]\", \"\")\n",
    "    .alias(\"converted_title\")\n",
    ")"
   ]
  },
  {
   "cell_type": "code",
   "execution_count": 4,
   "metadata": {},
   "outputs": [],
   "source": [
    "ini_processed = pl.read_csv(r\"C:\\Users\\dlaa0001\\Documents\\PhD\\review_paper\\data\\processed\\combined_results_8_12.csv\")"
   ]
  },
  {
   "cell_type": "code",
   "execution_count": 5,
   "metadata": {},
   "outputs": [
    {
     "data": {
      "text/plain": [
       "48"
      ]
     },
     "execution_count": 5,
     "metadata": {},
     "output_type": "execute_result"
    }
   ],
   "source": [
    "same_name = set(my_bib[\"converted_title\"]) & set(ini_processed[\"converted_title\"])\n",
    "len(same_name)"
   ]
  },
  {
   "cell_type": "code",
   "execution_count": 6,
   "metadata": {},
   "outputs": [],
   "source": [
    "check_dict = dict(zip(my_bib[\"converted_title\"], my_bib[\"Title\"]))"
   ]
  },
  {
   "cell_type": "code",
   "execution_count": 7,
   "metadata": {},
   "outputs": [],
   "source": [
    "maybe_snowball = set(my_bib[\"converted_title\"]) - same_name\n",
    "with open(\"check2.txt\", \"+wt\") as f:\n",
    "    for t in maybe_snowball:\n",
    "        f.write(check_dict[t].replace(\"{\", \"\").replace(\"}\", \"\"))\n",
    "        f.write(\"\\n\")"
   ]
  },
  {
   "cell_type": "code",
   "execution_count": 11,
   "metadata": {},
   "outputs": [],
   "source": [
    "# Note plus some cases that we failed in mathching\n",
    "ini_processed = ini_processed.with_columns(\n",
    "    pl.when(pl.col(\"converted_title\").is_in(same_name))\n",
    "    .then(pl.lit(\"INCLUDED\"))\n",
    "    .otherwise(pl.lit(\"TO_CHECK\"))\n",
    "    .alias(\"status\")\n",
    ")"
   ]
  },
  {
   "cell_type": "code",
   "execution_count": null,
   "metadata": {},
   "outputs": [],
   "source": [
    "ini_processed.to_csv(r\"C:\\Users\\dlaa0001\\Documents\\PhD\\review_paper\\data\\processed\\combined_results_8_12.csv\")"
   ]
  }
 ],
 "metadata": {
  "kernelspec": {
   "display_name": "review_popsyn",
   "language": "python",
   "name": "python3"
  },
  "language_info": {
   "codemirror_mode": {
    "name": "ipython",
    "version": 3
   },
   "file_extension": ".py",
   "mimetype": "text/x-python",
   "name": "python",
   "nbconvert_exporter": "python",
   "pygments_lexer": "ipython3",
   "version": "3.9.20"
  }
 },
 "nbformat": 4,
 "nbformat_minor": 2
}
